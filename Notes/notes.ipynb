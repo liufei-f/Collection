{
 "cells": [
  {
   "cell_type": "markdown",
   "id": "699189f4-fcad-4c49-ae8d-8f73584c316b",
   "metadata": {},
   "source": [
    "# 1. Fine-tuning LLMs\n",
    "https://www.youtube.com/watch?v=eC6Hd1hFvos&list=PLjpcZ_RcRCFCQORYO8Xc_ZFD9HqMK-51B&index=10\n",
    "\n",
    "`A smaller (fine-tuned) model can outperform a larger base model`"
   ]
  },
  {
   "cell_type": "markdown",
   "id": "3141e510-47c6-45f0-8230-e3a93c701bee",
   "metadata": {},
   "source": [
    "3 ways to fine-tune\n",
    "\n",
    "1) Self-supervised\n",
    "2) Supervised\n",
    "3) Reinforcement Learning\n",
    "\n",
    "![jupyter](./figures/Threeways2finetune.png)\n",
    "\n",
    "![jupyter](./figures/Parameter_training.png)"
   ]
  },
  {
   "cell_type": "markdown",
   "id": "5fe9060e-8d4e-4ee7-9111-195ab9e4c249",
   "metadata": {},
   "source": [
    "# 2. Low-Rank Adaptation (LoRA)\n",
    "![jupyter](./figures/LoRA1.png)\n",
    "\n",
    "固定$W_o$,引入$\\Delta W$,将$\\Delta W$拆成两个matrix $A,B$\n",
    "\n",
    "![jupyter](./figures/LoRA2.png)"
   ]
  },
  {
   "cell_type": "markdown",
   "id": "62e6eb12-4ce7-42af-a964-41c0e10b9a60",
   "metadata": {},
   "source": [
    "# 3. How to improve LLMs with RAG\n",
    "https://www.youtube.com/watch?v=Ylz779Op9Pw&list=PLjpcZ_RcRCFCQORYO8Xc_ZFD9HqMK-51B&index=11\n",
    "\n",
    "![jupyter](./figures/LLM_Two_limitations.png)"
   ]
  },
  {
   "cell_type": "markdown",
   "id": "124de8ce-f018-4cd5-b737-fe6b8e2d9db4",
   "metadata": {},
   "source": [
    "\n",
    "![jupyter](./figures/RAG.png)\n",
    "![jupyter](./figures/Howragwork.png)\n",
    "![jupyter](./figures/retriever.png)\n",
    "![jupyter](./figures/knowledgebase.png)"
   ]
  },
  {
   "cell_type": "markdown",
   "id": "9849b85c-0a92-4c9c-ab7e-d2180d745e8c",
   "metadata": {},
   "source": []
  },
  {
   "cell_type": "markdown",
   "id": "dd5733a8-6fbb-481a-94d8-f2d643729d59",
   "metadata": {},
   "source": []
  },
  {
   "cell_type": "markdown",
   "id": "5312615d-efe7-4da0-9415-2e9b6914841f",
   "metadata": {},
   "source": []
  },
  {
   "cell_type": "markdown",
   "id": "21daac45-56b7-4635-8f96-48bc3142f069",
   "metadata": {},
   "source": []
  },
  {
   "cell_type": "markdown",
   "id": "c08c778c-1ff1-45b6-97ad-fe8f74e1b3e1",
   "metadata": {},
   "source": []
  },
  {
   "cell_type": "markdown",
   "id": "de650a9e-1c13-45f9-bc2c-bfee5ede5ee8",
   "metadata": {},
   "source": []
  },
  {
   "cell_type": "markdown",
   "id": "177a879b-eb35-4739-bd3e-a8c672aa97fa",
   "metadata": {},
   "source": []
  },
  {
   "cell_type": "markdown",
   "id": "cbfe1583-30e3-42a8-9fd0-b0aa12f9dcd7",
   "metadata": {},
   "source": []
  },
  {
   "cell_type": "markdown",
   "id": "fbc30a78-efb1-4341-8269-0fc2248fa2c0",
   "metadata": {},
   "source": []
  },
  {
   "cell_type": "markdown",
   "id": "56410ac1-295a-4650-acfe-ca2a1efa4213",
   "metadata": {},
   "source": []
  }
 ],
 "metadata": {
  "kernelspec": {
   "display_name": "Python 3 (ipykernel)",
   "language": "python",
   "name": "python3"
  },
  "language_info": {
   "codemirror_mode": {
    "name": "ipython",
    "version": 3
   },
   "file_extension": ".py",
   "mimetype": "text/x-python",
   "name": "python",
   "nbconvert_exporter": "python",
   "pygments_lexer": "ipython3",
   "version": "3.11.8"
  }
 },
 "nbformat": 4,
 "nbformat_minor": 5
}
