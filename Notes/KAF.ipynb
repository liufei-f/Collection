{
 "cells": [
  {
   "cell_type": "markdown",
   "id": "15607a36-0108-4ac3-9622-463ead2a0bba",
   "metadata": {},
   "source": [
    "# KAG: Boosting LLMs in Professional Domains via Knowledge Augmented Generation"
   ]
  },
  {
   "cell_type": "markdown",
   "id": "f52aaef4-d71f-45ab-9c67-4280adf9393f",
   "metadata": {},
   "source": []
  },
  {
   "cell_type": "markdown",
   "id": "9c4efc17-8efe-4fb2-b7e2-5fc0ec449044",
   "metadata": {},
   "source": []
  },
  {
   "cell_type": "markdown",
   "id": "4873bb0e-26d7-47d9-9176-994cdd1cfced",
   "metadata": {},
   "source": []
  },
  {
   "cell_type": "markdown",
   "id": "c2101100-36c8-4f71-99d6-d971ccb037cf",
   "metadata": {},
   "source": []
  },
  {
   "cell_type": "markdown",
   "id": "6b1f39c8-cd4f-4eed-b903-4e82b656979c",
   "metadata": {},
   "source": []
  },
  {
   "cell_type": "markdown",
   "id": "07850bd0-cdfd-4858-ab2c-627c56398dbb",
   "metadata": {},
   "source": []
  },
  {
   "cell_type": "markdown",
   "id": "c173e1f7-9e57-46bb-a150-790fcde4e690",
   "metadata": {},
   "source": []
  },
  {
   "cell_type": "markdown",
   "id": "eb86459e-5e89-4c4d-9952-b890ab1ee32f",
   "metadata": {},
   "source": []
  },
  {
   "cell_type": "markdown",
   "id": "61a0834b-5220-48e7-92a9-4121dd62ed05",
   "metadata": {},
   "source": []
  },
  {
   "cell_type": "markdown",
   "id": "2967995a-378c-407b-a269-2fc126546dd2",
   "metadata": {},
   "source": []
  },
  {
   "cell_type": "markdown",
   "id": "05532595-1467-4e8a-8bcb-77e57e7a2234",
   "metadata": {},
   "source": []
  },
  {
   "cell_type": "markdown",
   "id": "88a7b910-1288-4f2a-ae0d-adf49da139bd",
   "metadata": {},
   "source": []
  },
  {
   "cell_type": "markdown",
   "id": "2408f453-70bf-422e-975e-87a5630c9f36",
   "metadata": {},
   "source": []
  },
  {
   "cell_type": "markdown",
   "id": "31047d13-2a03-41a8-a26c-32b3d384851f",
   "metadata": {},
   "source": []
  },
  {
   "cell_type": "markdown",
   "id": "0d1a0c34-5ec7-4d91-bc24-def454dd4169",
   "metadata": {},
   "source": []
  }
 ],
 "metadata": {
  "kernelspec": {
   "display_name": "Python 3 (ipykernel)",
   "language": "python",
   "name": "python3"
  },
  "language_info": {
   "codemirror_mode": {
    "name": "ipython",
    "version": 3
   },
   "file_extension": ".py",
   "mimetype": "text/x-python",
   "name": "python",
   "nbconvert_exporter": "python",
   "pygments_lexer": "ipython3",
   "version": "3.11.8"
  }
 },
 "nbformat": 4,
 "nbformat_minor": 5
}
