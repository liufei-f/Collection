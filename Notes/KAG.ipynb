{
 "cells": [
  {
   "cell_type": "markdown",
   "id": "15607a36-0108-4ac3-9622-463ead2a0bba",
   "metadata": {},
   "source": [
    "# KAG: Boosting LLMs in Professional Domains via Knowledge Augmented Generation"
   ]
  },
  {
   "cell_type": "markdown",
   "id": "f52aaef4-d71f-45ab-9c67-4280adf9393f",
   "metadata": {},
   "source": [
    "- LLM friendly knowledge representation framework LLMFriSPG\n",
    "- A logical-form-guided hybrid solving and reasoning engine\n",
    "- A knowledge alignment approach based on semantic reasoning\n",
    "- A model for KAG: To support the capabilities required for the operation of the KAG framework, such as index construction, retrieval, question understanding, seman- tic reasoning, and summarization, we enhance the three specific abilities of general LLMs: Natural Language Understanding (NLU), Natural Language Inference (NLI), and Natural Language Generation (NLG) to achieve better performance in each functional module."
   ]
  },
  {
   "cell_type": "markdown",
   "id": "5f7d3c46-70c6-4f5f-9f9f-1e21b54f0139",
   "metadata": {},
   "source": [
    "Three Q&A datasets:\n",
    "\n",
    "1. 2WikiMultiHopQA\n",
    "2. MuSiQue\n",
    "3. HotpotQA"
   ]
  },
  {
   "cell_type": "markdown",
   "id": "c3577e6a-32fa-4f82-832c-b18d4624d7dd",
   "metadata": {},
   "source": [
    "Applications in two professional Q&A scenarios within Ant Group:\n",
    "\n",
    "1. In the E-Government scenario, it answers user's questions about administrative processes based on a given repository of documents.\n",
    "2. For E-Health, it responds to inquiries related to diseases, symptoms, and treatment, utilizing the provided medical resources.\n"
   ]
  },
  {
   "cell_type": "markdown",
   "id": "9c4efc17-8efe-4fb2-b7e2-5fc0ec449044",
   "metadata": {},
   "source": [
    "![jupyter](./figures/KAG_figure1.png)\n",
    "Figure 1: The KAG Framework. The left side shows KAG-Builder, while the right side displays KAG-Solver. The gray area at the bottom of the image represents KAG model."
   ]
  },
  {
   "cell_type": "markdown",
   "id": "4873bb0e-26d7-47d9-9176-994cdd1cfced",
   "metadata": {},
   "source": [
    "LLMFriSPG: upgrade SPG from three aspects: deep text-context awareness, dynamic properties, and knowledge stratification\n",
    "$$\n",
    "\\mathcal{M} = \\{\\mathcal{T}, \\rho, \\mathcal{C}, \\mathcal{L}\\}\n",
    "$$\n",
    "\n",
    "$\\mathcal{M}$ represents all types defined in **LLMFriSPG**\n",
    "\n",
    "$\\mathcal{T}$ represents all **EntityType** (e.g., Person in Figure 2), **EventType** classes, and all pre-defined properties that are compatible with LPG syntax declarations.\n",
    "\n",
    "$\\mathcal{C}$ represents all **ConceptType** classes, concepts, and concepts relations. It is worth noting that the root node of each concept tree is a **ConceptType** class that is compatible with LPG syntax (e.g., TaxoOfPerson in Figure 2),and  each concept node has a unique **ConceptType** class.\n",
    "\n",
    "$\\rho$ represents the inductive relations from instances to concepts.\n",
    "\n",
    "$\\mathcal{L}$ represents all executable rules defined on logical relations and logical concepts.\n",
    "\n",
    "For $\\forall t \\in \\mathcal{T}:$\n",
    "\n",
    "$$p_t=\\{p_t^c, p_t^f, p_t^b\\}$$\n",
    "\n",
    "$p_t$ represents all properties and relations of type $t$\n",
    "\n",
    "$p_t^c$ represents the domain experts pre-defined part\n",
    "\n",
    "$p_t^f$ represents the part added in an ad-hoc manner\n",
    "\n",
    "$p_t^b$ represents the system built-in properties, such as *supporting_chunks*, *descripiton*, *summary* and *belongTo*\n",
    "\n"
   ]
  },
  {
   "cell_type": "markdown",
   "id": "c2101100-36c8-4f71-99d6-d971ccb037cf",
   "metadata": {},
   "source": [
    "![jupyter](./figures/KAG_figure2.png)\n",
    "\n",
    "Figure 2: LLMFriSPG: A knowledge representation framework that is friendly to LLMs. Instances and concepts are separated to achieve more effective alignment with LLMs through concepts. In this study, entity instances and event instances are collectively referred to as instances unless otherwise specified. SPG properties are divided into `knowledge and information` areas, also called `static and dynamic` data, which are compatible with decision-making expertise with strong schema constraints and document retrieval index knowledge with open information representation. The red dotted line represents the fusion and mining process from information and knowledge. The enhanced document chunk representation provides traceable and interpretable text context for LLMs."
   ]
  },
  {
   "cell_type": "markdown",
   "id": "6b1f39c8-cd4f-4eed-b903-4e82b656979c",
   "metadata": {},
   "source": [
    "![jupyter](./figures/KAG_figure3.png)\n",
    "Figure 3: Hierarchical representation of knowledge and information"
   ]
  },
  {
   "cell_type": "markdown",
   "id": "07850bd0-cdfd-4858-ab2c-627c56398dbb",
   "metadata": {},
   "source": [
    "![jupyter](./figures/KAG_figure4.png)\n",
    "Figure 4: The Pipeline of KAG Builder for domain unstructured documents. From left to right, first, phrases and triples are obtained through information extraction, then disambiguation and fusion are completed through semantic alignment, and finally, the constructed KG is written into the storage."
   ]
  },
  {
   "cell_type": "markdown",
   "id": "c173e1f7-9e57-46bb-a150-790fcde4e690",
   "metadata": {},
   "source": [
    "![jupyter](./figures/KAG_figure5.png)\n",
    "Figure 5: An Example of KAG-Builder pipeline\n"
   ]
  },
  {
   "cell_type": "markdown",
   "id": "eb86459e-5e89-4c4d-9952-b890ab1ee32f",
   "metadata": {},
   "source": [
    "![jupyter](./figures/KAG_figure6.png)\n",
    "Figure 6: An Example of logical form execution. In this figure, the construction process of KG on the left is shown in Figure 5, and the overall reasoning and iteration process is on the right. First, a logical form decomposition is performed based on the user's overall question, and then logical-form-guided reasoning is used for retrieval and reasoning. Finally, Generation deterimines whether the user's question is satisfied. If not, a new question is supplied to enter a new logical form decomposition and reasoning process. If it is determined to be satisfied, Generation directly outputs the answer."
   ]
  },
  {
   "cell_type": "markdown",
   "id": "61a0834b-5220-48e7-92a9-4121dd62ed05",
   "metadata": {},
   "source": [
    "![jupyter](./figures/KAG_figure7.png)\n",
    "Figure 7: The model capabilities required for KAG"
   ]
  },
  {
   "cell_type": "markdown",
   "id": "2967995a-378c-407b-a269-2fc126546dd2",
   "metadata": {},
   "source": []
  },
  {
   "cell_type": "markdown",
   "id": "05532595-1467-4e8a-8bcb-77e57e7a2234",
   "metadata": {},
   "source": []
  },
  {
   "cell_type": "markdown",
   "id": "88a7b910-1288-4f2a-ae0d-adf49da139bd",
   "metadata": {},
   "source": []
  },
  {
   "cell_type": "markdown",
   "id": "2408f453-70bf-422e-975e-87a5630c9f36",
   "metadata": {},
   "source": []
  },
  {
   "cell_type": "markdown",
   "id": "31047d13-2a03-41a8-a26c-32b3d384851f",
   "metadata": {},
   "source": []
  },
  {
   "cell_type": "markdown",
   "id": "0d1a0c34-5ec7-4d91-bc24-def454dd4169",
   "metadata": {},
   "source": []
  }
 ],
 "metadata": {
  "kernelspec": {
   "display_name": "Python 3 (ipykernel)",
   "language": "python",
   "name": "python3"
  },
  "language_info": {
   "codemirror_mode": {
    "name": "ipython",
    "version": 3
   },
   "file_extension": ".py",
   "mimetype": "text/x-python",
   "name": "python",
   "nbconvert_exporter": "python",
   "pygments_lexer": "ipython3",
   "version": "3.11.8"
  }
 },
 "nbformat": 4,
 "nbformat_minor": 5
}
