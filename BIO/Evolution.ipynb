{
 "cells": [
  {
   "cell_type": "markdown",
   "id": "0a6b093d-d21c-4126-9b34-1c230b18cdd4",
   "metadata": {},
   "source": [
    "# The fixation index\n",
    "The fixation index ($F_{ST}$) is a measure of population differentiation due to genetic structure.\n",
    "\n",
    "$F_{ST}$ essentially measures the level of genetic differentiation between two or more populations. \n",
    "\n",
    "It ranges from 0 (i.e. no genetic differentiation) to 1 (complete genetic differentiation)\n",
    "\n",
    "$ F_{ST} = \\frac {H_T-H_S} {H_T}$\n",
    "\n",
    "For simplicity, imagine we are examining two populations only. With this formulate, $H_T$ is the expected heterozygosity when the two populations are considered as one large meta-populations. $H_S$ is the average expected heterozygosity in the two populations.\n",
    "\n"
   ]
  },
  {
   "cell_type": "code",
   "execution_count": null,
   "id": "19f29b5e-7d9e-49fc-9401-97f10df0262f",
   "metadata": {},
   "outputs": [],
   "source": []
  }
 ],
 "metadata": {
  "kernelspec": {
   "display_name": "Python 3 (ipykernel)",
   "language": "python",
   "name": "python3"
  },
  "language_info": {
   "codemirror_mode": {
    "name": "ipython",
    "version": 3
   },
   "file_extension": ".py",
   "mimetype": "text/x-python",
   "name": "python",
   "nbconvert_exporter": "python",
   "pygments_lexer": "ipython3",
   "version": "3.11.8"
  }
 },
 "nbformat": 4,
 "nbformat_minor": 5
}
